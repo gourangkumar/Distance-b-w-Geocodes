{
 "cells": [
  {
   "cell_type": "code",
   "execution_count": 1,
   "id": "db80af3e-34a4-461d-a2e7-d49c188a2b7a",
   "metadata": {},
   "outputs": [],
   "source": [
    "#pip install geopy\n"
   ]
  },
  {
   "cell_type": "code",
   "execution_count": 2,
   "id": "5a7c96e0-f47e-4e37-9647-30816a3d7e85",
   "metadata": {},
   "outputs": [],
   "source": [
    "import csv\n",
    "from geopy.distance import geodesic\n",
    "from geopy.geocoders import Nominatim"
   ]
  },
  {
   "cell_type": "code",
   "execution_count": 3,
   "id": "54cdd2ed-89ff-480f-a331-1e03a66c2b79",
   "metadata": {},
   "outputs": [],
   "source": [
    "import os"
   ]
  },
  {
   "cell_type": "code",
   "execution_count": 4,
   "id": "ca7120fa-e471-4682-a6e6-fb12e5f3ce30",
   "metadata": {},
   "outputs": [],
   "source": [
    "def get_coordinates(pincode):\n",
    "    geolocator = Nominatim(user_agent=\"pincode_locator\")\n",
    "    location = geolocator.geocode(pincode)\n",
    "    if location and is_within_india(location.latitude, location.longitude):\n",
    "        return (location.latitude, location.longitude)\n",
    "    else:\n",
    "        return None"
   ]
  },
  {
   "cell_type": "code",
   "execution_count": 5,
   "id": "8d0c6ed2-59f8-4a2c-afa4-a56ced130a45",
   "metadata": {},
   "outputs": [],
   "source": [
    "def is_within_india(latitude, longitude):\n",
    "    # Define latitude and longitude ranges that encompass India\n",
    "    return 8.4 <= latitude <= 37.1 and 68.7 <= longitude <= 97.25"
   ]
  },
  {
   "cell_type": "code",
   "execution_count": 6,
   "id": "9a672325-671b-4210-bc3c-85cd4915df27",
   "metadata": {},
   "outputs": [],
   "source": [
    "def distance_between_pincodes(pincode1, pincode2):\n",
    "    coords1 = get_coordinates(pincode1)\n",
    "    coords2 = get_coordinates(pincode2)\n",
    "\n",
    "    if coords1 and coords2:\n",
    "        return geodesic(coords1, coords2).kilometers\n",
    "    else:\n",
    "        return None"
   ]
  },
  {
   "cell_type": "code",
   "execution_count": 7,
   "id": "2d5f5e9d-d43d-45b7-8bb0-e6debb93950f",
   "metadata": {},
   "outputs": [],
   "source": [
    "os.chdir(r'D:')"
   ]
  },
  {
   "cell_type": "code",
   "execution_count": 8,
   "id": "121e2ecc-3abc-46cd-b458-b8f2a954cc6e",
   "metadata": {},
   "outputs": [],
   "source": [
    "output_directory = r'D:'"
   ]
  },
  {
   "cell_type": "code",
   "execution_count": 9,
   "id": "62f8d204-136f-4e75-9599-c9a6941ceaf2",
   "metadata": {},
   "outputs": [],
   "source": [
    "filename = \"Pincode_OD.csv\"  # Replace with the name of your CSV file\n",
    "output_filename = \"Pincode_OD_2.csv\"  # Replace with the desired output filename"
   ]
  },
  {
   "cell_type": "code",
   "execution_count": 10,
   "id": "2dc5b4e4-505d-4df8-8a82-d6a215697bda",
   "metadata": {},
   "outputs": [
    {
     "name": "stdout",
     "output_type": "stream",
     "text": [
      "Cannot calculate distance for 370421-999999. Pincodes may be invalid or missing.\n",
      "Cannot calculate distance for 829150-829122. Pincodes may be invalid or missing.\n",
      "Cannot calculate distance for 825405-825411. Pincodes may be invalid or missing.\n",
      "Cannot calculate distance for 799120-799116. Pincodes may be invalid or missing.\n",
      "Cannot calculate distance for 786151-786190. Pincodes may be invalid or missing.\n",
      "Cannot calculate distance for 769042-769043. Pincodes may be invalid or missing.\n",
      "Cannot calculate distance for 736135-736174. Pincodes may be invalid or missing.\n",
      "Cannot calculate distance for 721636-721649. Pincodes may be invalid or missing.\n",
      "Cannot calculate distance for 688534-688632. Pincodes may be invalid or missing.\n",
      "Cannot calculate distance for 688001-680004. Pincodes may be invalid or missing.\n",
      "Cannot calculate distance for 673633-673632. Pincodes may be invalid or missing.\n",
      "Cannot calculate distance for 680664-650664. Pincodes may be invalid or missing.\n",
      "Cannot calculate distance for 641662-641664. Pincodes may be invalid or missing.\n",
      "Cannot calculate distance for 631002-631001. Pincodes may be invalid or missing.\n",
      "Cannot calculate distance for 630302-630001. Pincodes may be invalid or missing.\n",
      "Cannot calculate distance for 629702-629703. Pincodes may be invalid or missing.\n",
      "Cannot calculate distance for 629001-629003. Pincodes may be invalid or missing.\n",
      "Cannot calculate distance for 626101-626115. Pincodes may be invalid or missing.\n",
      "Cannot calculate distance for 625203-625601. Pincodes may be invalid or missing.\n",
      "Cannot calculate distance for 585302-585236. Pincodes may be invalid or missing.\n",
      "Cannot calculate distance for 583201-583208. Pincodes may be invalid or missing.\n",
      "Cannot calculate distance for 571468-571511. Pincodes may be invalid or missing.\n",
      "Cannot calculate distance for 571118-571301. Pincodes may be invalid or missing.\n",
      "Cannot calculate distance for 534101-534102. Pincodes may be invalid or missing.\n",
      "Cannot calculate distance for 533308-533340. Pincodes may be invalid or missing.\n",
      "Cannot calculate distance for 516359-516360. Pincodes may be invalid or missing.\n",
      "Cannot calculate distance for 506371-506001. Pincodes may be invalid or missing.\n",
      "Cannot calculate distance for 497447-497442. Pincodes may be invalid or missing.\n",
      "Cannot calculate distance for 443001-443002. Pincodes may be invalid or missing.\n",
      "Cannot calculate distance for 443201-443002. Pincodes may be invalid or missing.\n",
      "Cannot calculate distance for 442501-442902. Pincodes may be invalid or missing.\n",
      "Cannot calculate distance for 442908-442706. Pincodes may be invalid or missing.\n",
      "Cannot calculate distance for 442001-441117. Pincodes may be invalid or missing.\n",
      "Cannot calculate distance for 425502-425508. Pincodes may be invalid or missing.\n",
      "Cannot calculate distance for 422212-422013. Pincodes may be invalid or missing.\n",
      "Cannot calculate distance for 416310-416312. Pincodes may be invalid or missing.\n",
      "Cannot calculate distance for 414502-414112. Pincodes may be invalid or missing.\n",
      "Cannot calculate distance for 414001-404411. Pincodes may be invalid or missing.\n",
      "Cannot calculate distance for 396521-396321. Pincodes may be invalid or missing.\n",
      "Cannot calculate distance for 396360-396321. Pincodes may be invalid or missing.\n",
      "Cannot calculate distance for 396340-396321. Pincodes may be invalid or missing.\n",
      "Cannot calculate distance for 382010-382026. Pincodes may be invalid or missing.\n",
      "Cannot calculate distance for 382845-382026. Pincodes may be invalid or missing.\n",
      "Cannot calculate distance for 365601-364365. Pincodes may be invalid or missing.\n",
      "Cannot calculate distance for 361001-361002. Pincodes may be invalid or missing.\n",
      "Cannot calculate distance for 312601-312612. Pincodes may be invalid or missing.\n",
      "Cannot calculate distance for 312601-312612. Pincodes may be invalid or missing.\n",
      "Cannot calculate distance for 303702-303802. Pincodes may be invalid or missing.\n",
      "Cannot calculate distance for 302029-302011. Pincodes may be invalid or missing.\n",
      "Cannot calculate distance for 301707-301411. Pincodes may be invalid or missing.\n",
      "Cannot calculate distance for 272208-272203. Pincodes may be invalid or missing.\n",
      "Cannot calculate distance for 262406-243406. Pincodes may be invalid or missing.\n",
      "Cannot calculate distance for 231226-231208. Pincodes may be invalid or missing.\n",
      "Cannot calculate distance for 230001-230131. Pincodes may be invalid or missing.\n",
      "Cannot calculate distance for 227817-227809. Pincodes may be invalid or missing.\n",
      "Cannot calculate distance for 222001-222002. Pincodes may be invalid or missing.\n",
      "Cannot calculate distance for 221709-221712. Pincodes may be invalid or missing.\n",
      "Cannot calculate distance for 221010-221005. Pincodes may be invalid or missing.\n",
      "Cannot calculate distance for 221010-221005. Pincodes may be invalid or missing.\n",
      "Cannot calculate distance for 221010-221005. Pincodes may be invalid or missing.\n",
      "Cannot calculate distance for 221010-221005. Pincodes may be invalid or missing.\n",
      "Cannot calculate distance for 203001-203002. Pincodes may be invalid or missing.\n",
      "Cannot calculate distance for 201206-201204. Pincodes may be invalid or missing.\n",
      "Cannot calculate distance for 190008-190001. Pincodes may be invalid or missing.\n",
      "Cannot calculate distance for 190008-190001. Pincodes may be invalid or missing.\n",
      "Cannot calculate distance for 190008-190001. Pincodes may be invalid or missing.\n",
      "Cannot calculate distance for 190018-190001. Pincodes may be invalid or missing.\n",
      "Cannot calculate distance for 190008-190001. Pincodes may be invalid or missing.\n",
      "Cannot calculate distance for 180001-180002. Pincodes may be invalid or missing.\n",
      "Cannot calculate distance for 175001-175021. Pincodes may be invalid or missing.\n",
      "Cannot calculate distance for 175001-175021. Pincodes may be invalid or missing.\n",
      "Cannot calculate distance for 173202-173209. Pincodes may be invalid or missing.\n",
      "Cannot calculate distance for 173204-173209. Pincodes may be invalid or missing.\n",
      "Cannot calculate distance for 152001-151001. Pincodes may be invalid or missing.\n",
      "Cannot calculate distance for 854103-150027. Pincodes may be invalid or missing.\n",
      "Cannot calculate distance for 141417-147301. Pincodes may be invalid or missing.\n",
      "Cannot calculate distance for 144702-142022. Pincodes may be invalid or missing.\n",
      "Cannot calculate distance for 140125-140124. Pincodes may be invalid or missing.\n",
      "Cannot calculate distance for 131101-132101. Pincodes may be invalid or missing.\n",
      "Cannot calculate distance for 110041-110026. Pincodes may be invalid or missing.\n"
     ]
    }
   ],
   "source": [
    "with open(filename, 'r', newline='') as file:\n",
    "    with open(output_filename, 'w', newline='') as output_file:\n",
    "        reader = csv.DictReader(file)\n",
    "        fieldnames = [\"Origin-Destination\", \"Distance\"]\n",
    "        writer = csv.DictWriter(output_file, fieldnames=fieldnames)\n",
    "        writer.writeheader()\n",
    "\n",
    "        for row in reader:\n",
    "            origin, destination = row[\"Origin-Destination\"].split(\"-\")\n",
    "            distance = distance_between_pincodes(origin.strip(), destination.strip())\n",
    "            if distance:\n",
    "                writer.writerow({\"Origin-Destination\": row[\"Origin-Destination\"], \"Distance\": distance})\n",
    "            else:\n",
    "                print(f\"Cannot calculate distance for {row['Origin-Destination']}. Pincodes may be invalid or missing.\")"
   ]
  },
  {
   "cell_type": "code",
   "execution_count": 11,
   "id": "648d4cef-627a-4180-ae59-e7a0b67f7c4d",
   "metadata": {},
   "outputs": [
    {
     "name": "stdout",
     "output_type": "stream",
     "text": [
      "Output saved to Pincode_OD_2.csv\n"
     ]
    }
   ],
   "source": [
    "print(\"Output saved to\", output_filename)"
   ]
  },
  {
   "cell_type": "code",
   "execution_count": null,
   "id": "269652db-7b37-41e5-9d8f-784b474b3bb2",
   "metadata": {},
   "outputs": [],
   "source": []
  }
 ],
 "metadata": {
  "kernelspec": {
   "display_name": "Python 3 (ipykernel)",
   "language": "python",
   "name": "python3"
  },
  "language_info": {
   "codemirror_mode": {
    "name": "ipython",
    "version": 3
   },
   "file_extension": ".py",
   "mimetype": "text/x-python",
   "name": "python",
   "nbconvert_exporter": "python",
   "pygments_lexer": "ipython3",
   "version": "3.9.6"
  }
 },
 "nbformat": 4,
 "nbformat_minor": 5
}
