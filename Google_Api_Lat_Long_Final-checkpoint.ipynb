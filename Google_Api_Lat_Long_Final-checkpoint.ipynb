{
 "cells": [
  {
   "cell_type": "code",
   "execution_count": null,
   "id": "1b2d10eb",
   "metadata": {},
   "outputs": [],
   "source": [
    "import googlemaps \n",
    "import pandas as pd\n",
    "import numpy as np\n",
    "import os\n",
    "gmap = googlemaps.Client(key='')"
   ]
  },
  {
   "cell_type": "code",
   "execution_count": null,
   "id": "acd9c7e8",
   "metadata": {},
   "outputs": [],
   "source": [
    "os.chdir('D:\\\\')"
   ]
  },
  {
   "cell_type": "code",
   "execution_count": null,
   "id": "f05aa560",
   "metadata": {},
   "outputs": [],
   "source": [
    "df = pd.read_csv('Lat_long.csv')"
   ]
  },
  {
   "cell_type": "code",
   "execution_count": null,
   "id": "c95789e6",
   "metadata": {},
   "outputs": [],
   "source": [
    "#df = pd.read_csv('DEP_1.csv')"
   ]
  },
  {
   "cell_type": "code",
   "execution_count": null,
   "id": "0142606f",
   "metadata": {},
   "outputs": [],
   "source": [
    "df.head()"
   ]
  },
  {
   "cell_type": "code",
   "execution_count": null,
   "id": "12b5ecbb",
   "metadata": {},
   "outputs": [],
   "source": [
    "#d_goog"
   ]
  },
  {
   "cell_type": "code",
   "execution_count": null,
   "id": "e8f215c8",
   "metadata": {},
   "outputs": [],
   "source": [
    "#distance_matrix"
   ]
  },
  {
   "cell_type": "code",
   "execution_count": null,
   "id": "ccdf13ff",
   "metadata": {},
   "outputs": [],
   "source": [
    "df['lat1'] = df['O_Lat']\n",
    "df['lon1'] = df['O_Long']\n",
    "df['lat2'] = df['D_Lat']\n",
    "df['lon2'] = df['D_Long']"
   ]
  },
  {
   "cell_type": "code",
   "execution_count": null,
   "id": "6b4a9f63",
   "metadata": {},
   "outputs": [],
   "source": [
    "i = 0\n",
    "li=[]\n",
    "for i in range(0,len(df)):\n",
    "    p_1 = (df['lat1'][i], df['lon1'][i])\n",
    "    p_2 = (df['lat2'][i], df['lon2'][i])\n",
    "    d_goog = gmap.distance_matrix(p_1, p_2, mode='driving')\n",
    "    new_d = d_goog['rows'][0]['elements'][0]['distance']['value']\n",
    "    newd_km = new_d/1000\n",
    "    newd_km = round(newd_km)\n",
    "    print(newd_km)\n",
    "    i = i+1\n",
    "    li.append(newd_km)"
   ]
  },
  {
   "cell_type": "code",
   "execution_count": null,
   "id": "90fb3792",
   "metadata": {},
   "outputs": [],
   "source": []
  },
  {
   "cell_type": "code",
   "execution_count": null,
   "id": "e99a348a",
   "metadata": {},
   "outputs": [],
   "source": [
    "li = pd.DataFrame(li)\n",
    "df['Distance(Km)'] = li\n",
    "df = df[['Unique_LH_Sector', 'LH_Origin', 'LH_Dest', 'O_Lat', 'O_Long', 'D_Lat',\n",
    "       'D_Long','Distance(Km)']]\n",
    "df['Time(hrs)'] = round((df['Distance(Km)']/35),2)"
   ]
  },
  {
   "cell_type": "code",
   "execution_count": null,
   "id": "9f8b8111",
   "metadata": {},
   "outputs": [],
   "source": [
    "os.chdir('D:\\\\')\n",
    "df"
   ]
  },
  {
   "cell_type": "code",
   "execution_count": null,
   "id": "72f466f5",
   "metadata": {},
   "outputs": [],
   "source": [
    "df.to_csv('Lat_Long_DH_DC_2110.csv')"
   ]
  },
  {
   "cell_type": "code",
   "execution_count": null,
   "id": "227688f6",
   "metadata": {},
   "outputs": [],
   "source": [
    "df. head()"
   ]
  },
  {
   "cell_type": "code",
   "execution_count": null,
   "id": "18f4f6da",
   "metadata": {},
   "outputs": [],
   "source": [
    "df.count"
   ]
  },
  {
   "cell_type": "code",
   "execution_count": null,
   "id": "6b47e24e",
   "metadata": {},
   "outputs": [],
   "source": []
  }
 ],
 "metadata": {
  "kernelspec": {
   "display_name": "Python 3 (ipykernel)",
   "language": "python",
   "name": "python3"
  },
  "language_info": {
   "codemirror_mode": {
    "name": "ipython",
    "version": 3
   },
   "file_extension": ".py",
   "mimetype": "text/x-python",
   "name": "python",
   "nbconvert_exporter": "python",
   "pygments_lexer": "ipython3",
   "version": "3.7.2"
  }
 },
 "nbformat": 4,
 "nbformat_minor": 5
}
